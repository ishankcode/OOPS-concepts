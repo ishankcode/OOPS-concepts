{
 "cells": [
  {
   "cell_type": "markdown",
   "metadata": {},
   "source": [
    "# OOPS"
   ]
  },
  {
   "cell_type": "code",
   "execution_count": 1,
   "metadata": {},
   "outputs": [],
   "source": [
    "#Programming Paradigm\n",
    "# we call an object to perform a task \n",
    "#Class is basically an template  containg the methalogy, functions and attributes\n",
    "# objects is used to define orr use the code\n"
   ]
  },
  {
   "cell_type": "code",
   "execution_count": 2,
   "metadata": {},
   "outputs": [
    {
     "data": {
      "text/plain": [
       "__main__.Student"
      ]
     },
     "execution_count": 2,
     "metadata": {},
     "output_type": "execute_result"
    }
   ],
   "source": [
    "# Creating a Class\n",
    "class Student:\n",
    "    pass\n",
    "\n",
    "#To create an object of class\n",
    "s=Student()\n",
    "type(s)\n",
    "# this will print __main__.Student--- which means object of student class"
   ]
  },
  {
   "cell_type": "code",
   "execution_count": 3,
   "metadata": {},
   "outputs": [
    {
     "data": {
      "text/plain": [
       "{}"
      ]
     },
     "execution_count": 3,
     "metadata": {},
     "output_type": "execute_result"
    }
   ],
   "source": [
    "#Attributes\n",
    "# ADD DATA TO THE CLASSES\n",
    "# This can be used to check all the attributes that object has\n",
    "\n",
    "s.__dict__\n",
    "\n",
    "# hasattr(objectname,attribute name)--to check if object has this attribute or not\n",
    "\n",
    "# getattr(objectname,attributename)--- to get that attribute\n",
    "# getattr(objectname,attributename,3rd value is  default in case if  attribute is not present you initialize without giving error)\n",
    "# delattr(objectname,attributename)\n",
    "\n",
    "# Generally these functions are not used much because attributes are rarely assigned individually "
   ]
  },
  {
   "cell_type": "code",
   "execution_count": 4,
   "metadata": {},
   "outputs": [],
   "source": [
    "# Diff btw instance attribute and class attribute\n",
    "#class attribute\n",
    "\n",
    "# class student:\n",
    "#      p=80\n",
    "# s1=Student()\n",
    "# s2=student()\n",
    "\n",
    "#Instance attribute\n",
    "# s1.name='ram'-----------THis attribute name is onlyy for this not for every object of class"
   ]
  },
  {
   "cell_type": "code",
   "execution_count": 9,
   "metadata": {},
   "outputs": [],
   "source": [
    "#SELF PARAMETER\n",
    "#And instance metthods-- object.attribute\n",
    "\n",
    "class student:\n",
    "    \n",
    "    # class attribute -- to call this in functions have to use student.passing or self.passing\n",
    "    passing=70\n",
    "    \n",
    "    def studentdetails(self):\n",
    "        #This  has become now an object/instace attribute- acessible till the object has been defined\n",
    "        self.name='ram'\n",
    "        # Local to function only \n",
    "        name='parth'\n",
    "\n",
    "s=student()\n",
    "s.studentdetails() #THIS IS SAME AS: student.studentdetails(s) i.e Classname.Function_name(object)\n",
    "#that is why an object is being aked so  for convention we use self"
   ]
  },
  {
   "cell_type": "code",
   "execution_count": 12,
   "metadata": {},
   "outputs": [
    {
     "name": "stdout",
     "output_type": "stream",
     "text": [
      "Parikh 60\n"
     ]
    }
   ],
   "source": [
    "class Student:\n",
    "    \n",
    "    #class attribute\n",
    "    name = 'Parikh'\n",
    "    \n",
    "    def store_details(self):\n",
    "        self.age = 60\n",
    "    \n",
    "    def print_details(self):\n",
    "        print(self.name, end=' ')\n",
    "        print(self.age)\n",
    "\n",
    "s = Student()\n",
    "s.store_details()\n",
    "s.print_details()"
   ]
  },
  {
   "cell_type": "code",
   "execution_count": 15,
   "metadata": {},
   "outputs": [
    {
     "name": "stdout",
     "output_type": "stream",
     "text": [
      "Parikh\n"
     ]
    }
   ],
   "source": [
    "class Student:\n",
    "    name = 'Parikh'\n",
    "    def store_details(self):\n",
    "        self.age = 60\n",
    "    def print_age(self):\n",
    "        print(self.name)\n",
    "        #print(self.age)---This will give error because self.age has been crreated for s object and not for s1 \n",
    "s = Student()\n",
    "s.store_details()\n",
    "s1 = Student()\n",
    "s1.print_age()"
   ]
  },
  {
   "cell_type": "code",
   "execution_count": 16,
   "metadata": {},
   "outputs": [
    {
     "name": "stdout",
     "output_type": "stream",
     "text": [
      "hi\n"
     ]
    }
   ],
   "source": [
    "#Static Methods\n",
    "class Student:\n",
    "    \n",
    "    @staticmethod #--Decorator  now no need for self\n",
    "    def Welcome():\n",
    "        print('hi')\n",
    "\n",
    "s=Student()\n",
    "s.Welcome()"
   ]
  },
  {
   "cell_type": "code",
   "execution_count": 25,
   "metadata": {},
   "outputs": [],
   "source": [
    "# init methods\n",
    "# for every object some common things should be present in class\n",
    "# init function is called directly after object is created\n",
    "\n"
   ]
  },
  {
   "cell_type": "code",
   "execution_count": 68,
   "metadata": {},
   "outputs": [
    {
     "data": {
      "text/plain": [
       "{'name': 'ram'}"
      ]
     },
     "execution_count": 68,
     "metadata": {},
     "output_type": "execute_result"
    }
   ],
   "source": [
    "class hi:\n",
    "    def __init__(self,name):\n",
    "        self.name=name\n",
    "        \n",
    "#s=hi()\n",
    "#s.__dict__\n",
    "s1=hi('ram')\n",
    "s1.__dict__"
   ]
  },
  {
   "cell_type": "code",
   "execution_count": 69,
   "metadata": {},
   "outputs": [],
   "source": [
    "# Class Methods\n",
    "# you will be returning object of class,also called Factory methods\n",
    "# first parameeter should be classname\n"
   ]
  },
  {
   "cell_type": "code",
   "execution_count": 70,
   "metadata": {},
   "outputs": [],
   "source": [
    "# Public and private Modifiers\n",
    "#private __() accesses only with the class, works for both attribute and methods\n",
    "# we can still acess them outside the class but shouldnt be done-- by Name Mangling i.e (object_classname__method/attribute)\n"
   ]
  },
  {
   "cell_type": "code",
   "execution_count": 71,
   "metadata": {},
   "outputs": [],
   "source": [
    "#Inheritance\n",
    "# Parent class(BASE CLASS) and derived class (CHILD CLASS)\n",
    "# where we can derive properties(method and sttibutes) from parent class to derived class\n",
    "# for example class Student() where passing marks is same for everything,school timings etc which will bbee common for all class\n",
    "# This avoids lot of repeatition of code\n",
    "# base class-vehoicle, child class-car,bike,bus,ships,train etc\n"
   ]
  },
  {
   "cell_type": "code",
   "execution_count": 74,
   "metadata": {},
   "outputs": [],
   "source": [
    "#EXAMPLE\n",
    "class Vehicle:\n",
    "    def __init__(self,color,maxspeed):\n",
    "        self.color=color\n",
    "        self.maxspeed=maxspeed\n",
    "    \n",
    "class Car(Vehicle):\n",
    "    \n",
    "    def __init__(self,color,maxspeed,numgears):\n",
    "        # color and maxspeed has to be inherited from base class so, # super.(function name)()\n",
    "        super().__init__(color,maxspeed)\n",
    "        self.numgears=numgears\n",
    "    \n",
    "    def printcar(self):\n",
    "        print('color :',self.color)\n",
    "        print('numgears :',self.numgears)"
   ]
  },
  {
   "cell_type": "code",
   "execution_count": 76,
   "metadata": {},
   "outputs": [
    {
     "name": "stdout",
     "output_type": "stream",
     "text": [
      "color : red\n",
      "numgears : 5\n",
      "20\n"
     ]
    }
   ],
   "source": [
    "c=Car('red',20,5)\n",
    "c.printcar()\n",
    "print(c.maxspeed)"
   ]
  },
  {
   "cell_type": "code",
   "execution_count": 79,
   "metadata": {},
   "outputs": [],
   "source": [
    "# INheritance in private members\n",
    "# I made the maxspeed as private function but now it will show an error that car object has no maxspeed\n",
    "# because even though all data is inherited by derived class, to acess private memebers (only valid in that class);\n",
    "# we have to go through that class\n",
    "\n",
    "class Vehicle:\n",
    "    def __init__(self,color,maxspeed):\n",
    "        self.color=color\n",
    "        self.__maxspeed=maxspeed\n",
    "    \n",
    "class Car(Vehicle):\n",
    "    \n",
    "    def __init__(self,color,maxspeed,numgears):\n",
    "        # color and maxspeed has to be inherited from base class so, # super.(function name)()\n",
    "        super().__init__(color,maxspeed)\n",
    "        self.numgears=numgears\n",
    "    \n",
    "    def printcar(self):\n",
    "        print('color :',self.color)\n",
    "        print('numgears :',self.numgears)"
   ]
  },
  {
   "cell_type": "code",
   "execution_count": 78,
   "metadata": {},
   "outputs": [
    {
     "name": "stdout",
     "output_type": "stream",
     "text": [
      "color : red\n",
      "numgears : 5\n"
     ]
    },
    {
     "ename": "AttributeError",
     "evalue": "'Car' object has no attribute 'maxspeed'",
     "output_type": "error",
     "traceback": [
      "\u001b[1;31m---------------------------------------------------------------------------\u001b[0m",
      "\u001b[1;31mAttributeError\u001b[0m                            Traceback (most recent call last)",
      "\u001b[1;32m<ipython-input-78-7ab9913cd01b>\u001b[0m in \u001b[0;36m<module>\u001b[1;34m\u001b[0m\n\u001b[0;32m      1\u001b[0m \u001b[0mc\u001b[0m\u001b[1;33m=\u001b[0m\u001b[0mCar\u001b[0m\u001b[1;33m(\u001b[0m\u001b[1;34m'red'\u001b[0m\u001b[1;33m,\u001b[0m\u001b[1;36m20\u001b[0m\u001b[1;33m,\u001b[0m\u001b[1;36m5\u001b[0m\u001b[1;33m)\u001b[0m\u001b[1;33m\u001b[0m\u001b[1;33m\u001b[0m\u001b[0m\n\u001b[0;32m      2\u001b[0m \u001b[0mc\u001b[0m\u001b[1;33m.\u001b[0m\u001b[0mprintcar\u001b[0m\u001b[1;33m(\u001b[0m\u001b[1;33m)\u001b[0m\u001b[1;33m\u001b[0m\u001b[1;33m\u001b[0m\u001b[0m\n\u001b[1;32m----> 3\u001b[1;33m \u001b[0mprint\u001b[0m\u001b[1;33m(\u001b[0m\u001b[0mc\u001b[0m\u001b[1;33m.\u001b[0m\u001b[0mmaxspeed\u001b[0m\u001b[1;33m)\u001b[0m\u001b[1;33m\u001b[0m\u001b[1;33m\u001b[0m\u001b[0m\n\u001b[0m",
      "\u001b[1;31mAttributeError\u001b[0m: 'Car' object has no attribute 'maxspeed'"
     ]
    }
   ],
   "source": [
    "c=Car('red',20,5)\n",
    "c.printcar()\n",
    "print(c.maxspeed)"
   ]
  },
  {
   "cell_type": "code",
   "execution_count": 85,
   "metadata": {},
   "outputs": [],
   "source": [
    "# INheritance in private members\n",
    "# so this  can be done by usinng a function in that class with private members such as\n",
    "\n",
    "class Vehicle:\n",
    "    def __init__(self,color,maxspeed):\n",
    "        self.color=color\n",
    "        self.__maxspeed=maxspeed\n",
    "        \n",
    "    def getprivate(self):\n",
    "        return self.__maxspeed\n",
    "    \n",
    "class Car(Vehicle):\n",
    "    \n",
    "    def __init__(self,color,maxspeed,numgears):\n",
    "        # color and maxspeed has to be inherited from base class so, # super.(function name)()\n",
    "        super().__init__(color,maxspeed) \n",
    "        self.numgears=numgears\n",
    "    \n",
    "    def printcar(self):\n",
    "        print('color :',self.color)\n",
    "        print('numgears :',self.numgears)"
   ]
  },
  {
   "cell_type": "code",
   "execution_count": 86,
   "metadata": {},
   "outputs": [
    {
     "name": "stdout",
     "output_type": "stream",
     "text": [
      "color : red\n",
      "numgears : 5\n",
      "20\n"
     ]
    }
   ],
   "source": [
    "c=Car('red',20,5)\n",
    "c.printcar()\n",
    "print(c.getprivate()) # instead of  maxspeed i am inheriting getpribvate"
   ]
  },
  {
   "cell_type": "code",
   "execution_count": 92,
   "metadata": {},
   "outputs": [],
   "source": [
    "# or i can do this:\n",
    "class Vehicle:\n",
    "    def __init__(self,color,maxspeed):\n",
    "        self.color=color\n",
    "        self.__maxspeed=maxspeed\n",
    "        \n",
    "    def getprivate(self):\n",
    "        return self.__maxspeed\n",
    "    \n",
    "    def print(self):\n",
    "        print(self.__maxspeed) # in that class only\n",
    "    \n",
    "class Car(Vehicle):\n",
    "    \n",
    "    def __init__(self,color,maxspeed,numgears):\n",
    "        # color and maxspeed has to be inherited from base class so, # super.(function name)()\n",
    "        super().__init__(color,maxspeed) \n",
    "        self.numgears=numgears\n",
    "    \n",
    "    def printcar(self):\n",
    "        super().print() # or can even use self.print() in this case\n",
    "        print('color :',self.color)\n",
    "        print('numgears :',self.numgears)"
   ]
  },
  {
   "cell_type": "code",
   "execution_count": 93,
   "metadata": {},
   "outputs": [
    {
     "name": "stdout",
     "output_type": "stream",
     "text": [
      "20\n",
      "color : red\n",
      "numgears : 5\n"
     ]
    }
   ],
   "source": [
    "c=Car('red',20,5)\n",
    "c.printcar()\n"
   ]
  },
  {
   "cell_type": "code",
   "execution_count": 95,
   "metadata": {},
   "outputs": [],
   "source": [
    "# Polymorphism -ability to take multiple forms\n",
    "# Meethod overriding\n",
    "\n",
    "# suppose car and vehicle both has also a print() method\n",
    "# if object is c=Car(blah,) then first priority will be method /attribute of object of that class andd then if not found\n",
    "# then we will look in the parent class\n",
    "\n",
    "# Difference btw self.() and super().() is that:\n",
    "# if that class only has thaty method/attritubutee than with self that will be called\n",
    "# with super  we will call the  base class method/attribute"
   ]
  },
  {
   "cell_type": "code",
   "execution_count": 101,
   "metadata": {},
   "outputs": [],
   "source": [
    "# Protected members - declred by _()\n",
    "# Actually they are just like publlic members in python\n",
    "# Python assumes that programmers are sensible and assume that if we assign it with _(), then you should not modify these\n",
    "# protected members (Responsibility of programmers)"
   ]
  },
  {
   "cell_type": "code",
   "execution_count": 102,
   "metadata": {},
   "outputs": [
    {
     "name": "stdout",
     "output_type": "stream",
     "text": [
      "<__main__.Circle object at 0x000001BFCC686188>\n"
     ]
    }
   ],
   "source": [
    "# Object class\n",
    "# Every class inherits from an object class by default thus  we gain 3 methods of object class\n",
    "# 1. __new__  -- to create an object \n",
    "# 2. __init__ -- to initialize the object\n",
    "# 3. __str__  -- to specify the description of class\n",
    "\n",
    "class Circle(object):\n",
    "    def __init__(self,radius):\n",
    "        self.radius=radius\n",
    "        \n",
    "c=Circle(5)\n",
    "print(c)"
   ]
  },
  {
   "cell_type": "code",
   "execution_count": 104,
   "metadata": {},
   "outputs": [
    {
     "name": "stdout",
     "output_type": "stream",
     "text": [
      "circle class which takes radius as  an parameter\n"
     ]
    }
   ],
   "source": [
    "# by default derived from object class\n",
    "\n",
    "class Circle:\n",
    "    def __init__(self,radius):\n",
    "        self.radius=radius\n",
    "    \n",
    "    def __str__(self):\n",
    "        return 'circle class which takes radius as  an parameter'\n",
    "        \n",
    "c=Circle(5)\n",
    "print(c)"
   ]
  },
  {
   "cell_type": "code",
   "execution_count": 107,
   "metadata": {},
   "outputs": [
    {
     "name": "stdout",
     "output_type": "stream",
     "text": [
      "sita\n"
     ]
    }
   ],
   "source": [
    "# MULTIPLE INHERITANCE:\n",
    "# we can have multiple base cases----\n",
    "# Base class- Mother and father\n",
    "# child class inherits from both of them\n",
    "\n",
    "class Mother:\n",
    "    \n",
    "    def __init__(self):\n",
    "        self.name='sita'\n",
    "\n",
    "class Father:\n",
    "    def __init__(self):\n",
    "        self.name='ram'\n",
    "        \n",
    "class child(Mother,Father):\n",
    "    def __init__(self):\n",
    "        super().__init__()\n",
    "    \n",
    "    def printchild(self):\n",
    "        print(self.name)\n",
    "        \n",
    "c=child()\n",
    "c.printchild()"
   ]
  },
  {
   "cell_type": "code",
   "execution_count": 108,
   "metadata": {},
   "outputs": [],
   "source": [
    "# In the above class sita was printed because iit depends on the order of the base class from which we derived \n",
    "# as (Mother,Father) so first it check in child then mother and then father\n"
   ]
  },
  {
   "cell_type": "code",
   "execution_count": 115,
   "metadata": {},
   "outputs": [
    {
     "name": "stdout",
     "output_type": "stream",
     "text": [
      "sita\n",
      "[<class '__main__.child'>, <class '__main__.Mother'>, <class '__main__.Father'>, <class 'object'>]\n"
     ]
    }
   ],
   "source": [
    "# Method resolution order\n",
    "class Mother:\n",
    "    \n",
    "    def __init__(self):\n",
    "        self.name='sita'\n",
    "        # if i had called for super().__init__(), then ram will be printed as per the order\n",
    "        \n",
    "\n",
    "class Father:\n",
    "    def __init__(self):\n",
    "        self.name='ram'\n",
    "        \n",
    "class child(Mother,Father):\n",
    "    def __init__(self):\n",
    "        super().__init__()\n",
    "    \n",
    "    def printchild(self):\n",
    "        print(self.name)\n",
    "        \n",
    "c=child()\n",
    "c.printchild()\n",
    "print(child.mro())\n",
    "# this will give order of method to called\n"
   ]
  },
  {
   "cell_type": "code",
   "execution_count": 116,
   "metadata": {},
   "outputs": [],
   "source": [
    "#class X: pass\n",
    "#class Y: pass\n",
    "#class Z:pass\n",
    "#class A(X,Y):pass\n",
    "#class B(Y,Z):pass\n",
    "#class C(B,A,Y):pass\n",
    "\n",
    "# MOR: c-b-y-z-a-x-y-y\n",
    "\n",
    "# finally c-b-z-a-x-y"
   ]
  },
  {
   "cell_type": "code",
   "execution_count": 119,
   "metadata": {},
   "outputs": [
    {
     "name": "stdout",
     "output_type": "stream",
     "text": [
      "This point is at (4,6)\n",
      "False\n"
     ]
    }
   ],
   "source": [
    "# Operator  overloading :\n",
    "# 1 + 2 = 3\n",
    "# \"1\" + \"hi\" = 1hi\n",
    "\n",
    "import math\n",
    "class Point:\n",
    "\n",
    "\tdef __init__(self,x,y):\n",
    "\t\tself.__x = x\n",
    "\t\tself.__y = y\n",
    "\n",
    "\n",
    "\tdef __str__(self):\n",
    "\n",
    "\t\treturn \"This point is at (\" + str(self.__x) + \",\" + str(self.__y) + \")\"\n",
    "\n",
    "\tdef __add__(self,point_object):\n",
    "\t\treturn Point(self.__x + point_object.__x,self.__y + point_object.__y)\n",
    "\n",
    "\tdef __lt__(self,point_object):\n",
    "\t\treturn math.sqrt(self.__x**2 + self.__y**2) < math.sqrt(point_object.__x**2 + point_object.__y**2)\n",
    "\n",
    "\n",
    "p1 = Point(1,2)\n",
    "p2 = Point(3,4)\n",
    "p3 = p1 + p2\n",
    "print(p3)\n",
    "print(p2<p1)\n"
   ]
  },
  {
   "cell_type": "code",
   "execution_count": 120,
   "metadata": {},
   "outputs": [],
   "source": [
    "#ABSTRACT CLASSES\n",
    "# An abstract class can be considered as a blueprint for other classes. \n",
    "# It allows you to create a set of methods that must be created within any child classes built from the abstract class"
   ]
  },
  {
   "cell_type": "code",
   "execution_count": 122,
   "metadata": {},
   "outputs": [
    {
     "name": "stdout",
     "output_type": "stream",
     "text": [
      "car created\n"
     ]
    }
   ],
   "source": [
    "# these have abstraactmethods generally they are declared but implemented by others compulsary for all the child class\n",
    "# abc --  abstract base classes\n",
    "# Objects of abstract class cannot be created (i.e  if  we have at least 1 abstract method), than we cant create  object\n",
    "\n",
    "from abc import ABC,abstractmethod\n",
    "\n",
    "class Automobile(ABC):\n",
    "    \n",
    "    def __init__(self):\n",
    "        print('automobile created')\n",
    "    \n",
    "    @abstractmethod\n",
    "    def start(self):\n",
    "        pass\n",
    "    \n",
    "class Car(Automobile):\n",
    "    \n",
    "    # WE NEED TO IMPLEMENT ALL ABSTRACTS METHODS IN ALL THE DERIVED CLASSES\n",
    "    \n",
    "    def __init__(self,name):\n",
    "        print('car created')\n",
    "        self.name=name\n",
    "        \n",
    "    def start(self):\n",
    "        pass\n",
    "        \n",
    "c=Car('Honda')\n",
    "        "
   ]
  },
  {
   "cell_type": "code",
   "execution_count": null,
   "metadata": {},
   "outputs": [],
   "source": [
    "# "
   ]
  }
 ],
 "metadata": {
  "kernelspec": {
   "display_name": "Python 3",
   "language": "python",
   "name": "python3"
  },
  "language_info": {
   "codemirror_mode": {
    "name": "ipython",
    "version": 3
   },
   "file_extension": ".py",
   "mimetype": "text/x-python",
   "name": "python",
   "nbconvert_exporter": "python",
   "pygments_lexer": "ipython3",
   "version": "3.7.6"
  }
 },
 "nbformat": 4,
 "nbformat_minor": 4
}
